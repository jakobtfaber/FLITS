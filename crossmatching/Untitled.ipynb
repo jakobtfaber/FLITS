{
 "cells": [
  {
   "cell_type": "code",
   "execution_count": 1,
   "id": "31decbef-84ff-4d1f-aaf5-c3d4847f8042",
   "metadata": {
    "tags": []
   },
   "outputs": [
    {
     "ename": "ModuleNotFoundError",
     "evalue": "No module named 'mpl_toolkits.basemap'",
     "output_type": "error",
     "traceback": [
      "\u001b[0;31m---------------------------------------------------------------------------\u001b[0m",
      "\u001b[0;31mModuleNotFoundError\u001b[0m                       Traceback (most recent call last)",
      "Cell \u001b[0;32mIn[1], line 1\u001b[0m\n\u001b[0;32m----> 1\u001b[0m \u001b[38;5;28;01mfrom\u001b[39;00m \u001b[38;5;21;01mmpl_toolkits\u001b[39;00m\u001b[38;5;21;01m.\u001b[39;00m\u001b[38;5;21;01mbasemap\u001b[39;00m \u001b[38;5;28;01mimport\u001b[39;00m Basemap\n\u001b[1;32m      2\u001b[0m \u001b[38;5;28;01mimport\u001b[39;00m \u001b[38;5;21;01mmatplotlib\u001b[39;00m\u001b[38;5;21;01m.\u001b[39;00m\u001b[38;5;21;01mpyplot\u001b[39;00m \u001b[38;5;28;01mas\u001b[39;00m \u001b[38;5;21;01mplt\u001b[39;00m\n\u001b[1;32m      4\u001b[0m \u001b[38;5;66;03m# Coordinates (decimal degrees)\u001b[39;00m\n",
      "\u001b[0;31mModuleNotFoundError\u001b[0m: No module named 'mpl_toolkits.basemap'"
     ]
    }
   ],
   "source": [
    "from mpl_toolkits.basemap import Basemap\n",
    "import matplotlib.pyplot as plt\n",
    "\n",
    "# Coordinates (decimal degrees)\n",
    "drao_lat, drao_lon = 49.3203, -119.6175   # CHIME/FRB @ DRAO\n",
    "ovro_lat, ovro_lon = 37.2337, -118.2760   # DSA‑110 @ OVRO\n",
    "\n",
    "# Latitude difference\n",
    "lat_diff = abs(drao_lat - ovro_lat)\n",
    "\n",
    "# Make an orthographic (“globe”) projection centred on North America\n",
    "fig = plt.figure(figsize=(6, 6))\n",
    "m = Basemap(projection='ortho', lat_0=35, lon_0=-110, resolution='l')\n",
    "\n",
    "# Coastlines / country outlines\n",
    "m.drawcoastlines(linewidth=0.5)\n",
    "m.drawcountries(linewidth=0.2)\n",
    "\n",
    "# Plot the two telescope sites (different markers, default colour)\n",
    "x_drao, y_drao = m(drao_lon, drao_lat)\n",
    "x_ovro, y_ovro = m(ovro_lon, ovro_lat)\n",
    "\n",
    "m.plot(x_drao, y_drao, marker='o', markersize=8, linestyle='')   # CHIME/FRB\n",
    "m.plot(x_ovro, y_ovro, marker='^', markersize=8, linestyle='')   # DSA‑110\n",
    "\n",
    "# Annotations: name + latitude\n",
    "plt.text(x_drao, y_drao, f'  CHIME/FRB\\n  {drao_lat:.2f}°N', fontsize=9)\n",
    "plt.text(x_ovro, y_ovro, f'  DSA‑110\\n  {ovro_lat:.2f}°N', fontsize=9)\n",
    "\n",
    "# Title shows the latitude offset\n",
    "plt.title(f'Latitude difference: {lat_diff:.2f}°')\n",
    "\n",
    "plt.tight_layout()\n",
    "plt.show()\n"
   ]
  },
  {
   "cell_type": "code",
   "execution_count": null,
   "id": "f90d9701-1f2e-476e-bb85-7678201b489e",
   "metadata": {},
   "outputs": [],
   "source": []
  }
 ],
 "metadata": {
  "kernelspec": {
   "display_name": "Python 3 (ipykernel)",
   "language": "python",
   "name": "python3"
  },
  "language_info": {
   "codemirror_mode": {
    "name": "ipython",
    "version": 3
   },
   "file_extension": ".py",
   "mimetype": "text/x-python",
   "name": "python",
   "nbconvert_exporter": "python",
   "pygments_lexer": "ipython3",
   "version": "3.8.19"
  },
  "widgets": {
   "application/vnd.jupyter.widget-state+json": {
    "state": {},
    "version_major": 2,
    "version_minor": 0
   }
  }
 },
 "nbformat": 4,
 "nbformat_minor": 5
}
