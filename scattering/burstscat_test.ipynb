{
 "cells": [
  {
   "cell_type": "code",
   "execution_count": 11,
   "id": "408a0481-6872-4415-bae5-c921f8baed67",
   "metadata": {
    "tags": []
   },
   "outputs": [
    {
     "name": "stdout",
     "output_type": "stream",
     "text": [
      "The autoreload extension is already loaded. To reload it, use:\n",
      "  %reload_ext autoreload\n"
     ]
    }
   ],
   "source": [
    "# ------------------------------------------------------------------\n",
    "# 0. Imports and Setup\n",
    "# ------------------------------------------------------------------\n",
    "import os\n",
    "import sys\n",
    "from pathlib import Path\n",
    "import numpy as np\n",
    "import matplotlib.pyplot as plt\n",
    "\n",
    "try:\n",
    "    import chainconsumer, seaborn, emcee, arviz\n",
    "except:\n",
    "    print('Installing Non-Default Packages...')\n",
    "    os.system('pip install seaborn')\n",
    "    os.system('pip install emcee')\n",
    "    os.system('pip install chainconsumer')\n",
    "    os.system('pip install arviz')\n",
    "\n",
    "# It's good practice to manage your python path this way\n",
    "# Create a 'scat_analysis' directory for your code if you haven't already\n",
    "# and place this notebook outside of it.\n",
    "# e.g., /path/to/project/notebook.ipynb\n",
    "#       /path/to/project/scat_analysis/__init__.py\n",
    "#       /path/to/project/scat_analysis/burstfit_pipeline.py\n",
    "#       ...\n",
    "# This makes imports clean and explicit.\n",
    "# If your project root is not in the path, uncomment the following line:\n",
    "# sys.path.insert(0, '/path/to/your/project/root')\n",
    "\n",
    "# Use ipython magic for interactive development\n",
    "%load_ext autoreload\n",
    "%autoreload 2\n",
    "\n",
    "# --- Core Pipeline Import ---\n",
    "from scat_analysis.burstfit_pipeline import BurstPipeline\n",
    "\n",
    "# --- Interactive Post-processing Imports ---\n",
    "# These are for optional, interactive analysis after the main run.\n",
    "from scat_analysis.burstfit_corner import (\n",
    "    quick_chain_check,\n",
    "    get_clean_samples,\n",
    "    make_beautiful_corner,\n",
    "    make_beautiful_corner_wide\n",
    ")\n",
    "from scat_analysis.burstfit import FRBParams"
   ]
  },
  {
   "cell_type": "code",
   "execution_count": 17,
   "id": "1829c819-3d34-4113-bb13-300d8873dff0",
   "metadata": {
    "tags": []
   },
   "outputs": [
    {
     "name": "stdout",
     "output_type": "stream",
     "text": [
      "Found data file: /arc/home/jfaber/baseband_morphologies/chime_dsa_codetections/data/DSA_bursts/casey_dsa_I_491_211_2500b_cntr_bpc.npy\n"
     ]
    }
   ],
   "source": [
    "# ------------------------------------------------------------------\n",
    "# 1. Configuration\n",
    "# ------------------------------------------------------------------\n",
    "# --- Locate data file ---\n",
    "burst_name = \"casey\" # Name of the burst to analyze\n",
    "data_dir = Path(\"/arc/home/jfaber/baseband_morphologies/chime_dsa_codetections/data/DSA_bursts\")\n",
    "data_dir_parent = data_dir.parent\n",
    "plot_dir = \"/arc/home/jfaber/baseband_morphologies/chime_dsa_codetections/FLITS/scattering/\"\n",
    "\n",
    "# Use pathlib for robust path handling\n",
    "try:\n",
    "    data_path = next(data_dir.glob(f\"*{burst_name}*.npy\"))\n",
    "    print(f\"Found data file: {data_path}\")\n",
    "except StopIteration:\n",
    "    raise FileNotFoundError(f\"No .npy file containing '{burst_name}' found in {data_dir}\")\n",
    "\n",
    "# --- Set Telescope and Run Parameters ---\n",
    "# These parameters will be passed directly to the pipeline\n",
    "pipeline_config = {\n",
    "    \"telescope\": \"dsa\",\n",
    "    \"telcfg_path\": \"yaml/telescopes.yaml\",\n",
    "    \"sampcfg_path\": \"yaml/sampler.yaml\",\n",
    "    \"steps\": 10000,          # Total MCMC steps for the final run\n",
    "    \"f_factor\": 384,        # Downsampling factor in frequency\n",
    "    \"t_factor\": 1,          # Downsampling factor in time\n",
    "    \"center_burst\": True,\n",
    "    \"outer_trim\": 0.49,\n",
    "    \"smooth_ms\": 0.1,\n",
    "    \"nproc\": 16,             # Number of processes for multiprocessing\n",
    "    \"yes\": True,            # Auto-confirm pool creation\n",
    "}"
   ]
  },
  {
   "cell_type": "code",
   "execution_count": 18,
   "id": "36518c57-44f8-4b6c-8c2a-96c540ac4836",
   "metadata": {
    "tags": []
   },
   "outputs": [
    {
     "name": "stdout",
     "output_type": "stream",
     "text": [
      "[BurstFit] running with nproc=16\n"
     ]
    }
   ],
   "source": [
    "# --- Set Initial Dispersion Measure ---\n",
    "dm_initial = 0.0 # pc cm^-3\n",
    "\n",
    "# ------------------------------------------------------------------\n",
    "# 2. Build and Run the Pipeline\n",
    "# ------------------------------------------------------------------\n",
    "# The pipeline is instantiated with all configuration parameters.\n",
    "# The `with` statement ensures the multiprocessing pool is handled correctly.\n",
    "pipe = BurstPipeline(\n",
    "    path=data_path,\n",
    "    dm_init=dm_initial,\n",
    "    **pipeline_config\n",
    ")\n"
   ]
  },
  {
   "cell_type": "code",
   "execution_count": 19,
   "id": "263e6bed-c6df-4a04-aaaa-809faad9b2dd",
   "metadata": {
    "tags": []
   },
   "outputs": [
    {
     "name": "stderr",
     "output_type": "stream",
     "text": [
      "[INFO | burstfit.pipeline] Finding initial guess for MCMC...\n",
      "[INFO | burstfit.pipeline] Refined initial guess found via optimization.\n",
      "[INFO | burstfit.pipeline] Starting model selection scan (BIC)...\n",
      "100%|██████████| 5000/5000 [00:30<00:00, 163.33it/s]\n"
     ]
    },
    {
     "name": "stdout",
     "output_type": "stream",
     "text": [
      "[Model M1]  logL_max = -43892.7 | BIC =  87812.1\n"
     ]
    },
    {
     "name": "stderr",
     "output_type": "stream",
     "text": [
      "100%|██████████| 5000/5000 [00:36<00:00, 138.70it/s]\n",
      "[INFO | burstfit.pipeline] Processing MCMC chains...\n",
      "[INFO | burstfit.pipeline] Auto-determined burn-in: 615, thinning: 36\n",
      "[INFO | burstfit.pipeline] Running all post-fit diagnostics...\n"
     ]
    },
    {
     "name": "stdout",
     "output_type": "stream",
     "text": [
      "[Model M3]  logL_max = -58591.3 | BIC = 117216.0\n",
      "\n",
      "→ Best model by BIC: M1\n"
     ]
    },
    {
     "name": "stderr",
     "output_type": "stream",
     "text": [
      "100%|██████████| 2500/2500 [00:11<00:00, 216.59it/s]\n",
      "100%|██████████| 2500/2500 [00:11<00:00, 208.35it/s]\n",
      "100%|██████████| 2500/2500 [00:13<00:00, 186.22it/s]\n",
      "100%|██████████| 2500/2500 [00:12<00:00, 194.51it/s]\n",
      "[INFO | burstfit.pipeline] Diagnostics complete.\n",
      "[INFO | burstfit.pipeline] Best model: M1 | χ²/dof = 110.28\n",
      "[INFO | burstfit.pipeline] Generating 16-panel comprehensive diagnostics plot...\n",
      "[INFO | burstfit.pipeline] Generating four-panel diagnostic plot...\n",
      "[INFO | burstfit.pipeline] Saving 4-panel plot to /arc/home/jfaber/baseband_morphologies/chime_dsa_codetections/data/DSA_bursts/casey_dsa_I_491_211_2500b_cntr_bpc_fullmodel.pdf\n"
     ]
    }
   ],
   "source": [
    "# This single call now performs all the steps:\n",
    "# - Data loading and preprocessing\n",
    "# - Finding an optimized initial guess\n",
    "# - Running the model selection scan (or a direct fit)\n",
    "# - Processing the MCMC chains\n",
    "# - Running all diagnostics (sub-band, influence, etc.)\n",
    "# - Calculating goodness-of-fit\n",
    "# - Generating and saving the 16-panel summary plot\n",
    "results = pipe.run_full(\n",
    "    model_scan=True,      # Perform BIC scan over models M0-M3\n",
    "    model_keys=[\"M1\", \"M3\"],\n",
    "    diagnostics=True,     # Run all post-fit diagnostic checks\n",
    "    plot=True,            # Generate and save the summary plot\n",
    "    show=False            # Do not block execution with plt.show()\n",
    "    \n",
    ")\n"
   ]
  },
  {
   "cell_type": "code",
   "execution_count": 20,
   "id": "b108aa5d-be63-48fb-a1d3-5dd8f39df164",
   "metadata": {},
   "outputs": [
    {
     "name": "stdout",
     "output_type": "stream",
     "text": [
      "\n",
      "--- Pipeline Run Summary ---\n",
      "Best model found: M1\n",
      "Reduced Chi-squared: 110.28\n",
      "Best-fit parameters (from highest-likelihood sample):\n",
      "FRBParams(c0=0.2999993392961509, t0=0.8184397874809738, gamma=3.199803063923565, zeta=0.02349188831331012, tau_1ghz=0.0)\n",
      "\n",
      "--- Interactive Chain Convergence Check ---\n",
      "Chain Health Check:\n",
      "  Log-prob stability: 2748.19 (want < 1.0)\n",
      "  Parameter drift: 0.11 (want < 0.1)\n",
      "  ⚠️  Chains may need more steps!\n",
      "  Consider running: sampler.run_mcmc(None, 1000, progress=True)\n",
      "\n",
      "Chain not fully converged. Running for 1000 more steps...\n"
     ]
    },
    {
     "name": "stderr",
     "output_type": "stream",
     "text": [
      "100%|██████████| 1000/1000 [00:04<00:00, 244.97it/s]\n"
     ]
    },
    {
     "name": "stdout",
     "output_type": "stream",
     "text": [
      "Chain Health Check:\n",
      "  Log-prob stability: 2748.18 (want < 1.0)\n",
      "  Parameter drift: 0.12 (want < 0.1)\n",
      "  ⚠️  Chains may need more steps!\n",
      "  Consider running: sampler.run_mcmc(None, 1000, progress=True)\n",
      "\n",
      "Chain not fully converged. Running for 1000 more steps...\n"
     ]
    },
    {
     "name": "stderr",
     "output_type": "stream",
     "text": [
      "100%|██████████| 1000/1000 [00:03<00:00, 258.47it/s]\n",
      "[WARNING | emcee.autocorr] The chain is shorter than 50 times the integrated autocorrelation time for 1 parameter(s). Use this estimate with caution and run a longer chain!\n",
      "N/50 = 140;\n",
      "tau: [129.05242329  72.50778485 209.57567993  87.12524151]\n"
     ]
    },
    {
     "name": "stdout",
     "output_type": "stream",
     "text": [
      "Chain Health Check:\n",
      "  Log-prob stability: 2748.19 (want < 1.0)\n",
      "  Parameter drift: 0.12 (want < 0.1)\n",
      "  ⚠️  Chains may need more steps!\n",
      "  Consider running: sampler.run_mcmc(None, 1000, progress=True)\n",
      "Reached max extra steps (2000); proceeding.\n",
      "\n",
      "--- Generating Final Corner Plot ---\n",
      "Detected burn-in: 340 steps\n",
      "Using thinning: 20\n",
      "Final samples: 10656 (from 224000 total)\n",
      "Removed 11 outlier samples\n"
     ]
    },
    {
     "ename": "ValueError",
     "evalue": "Invalid name '/arc/home/jfaber/baseband_morphologies/chime_dsa_codetections/FLITS/scattering//casey_scat_corner.pdf'",
     "output_type": "error",
     "traceback": [
      "\u001b[0;31m---------------------------------------------------------------------------\u001b[0m",
      "\u001b[0;31mValueError\u001b[0m                                Traceback (most recent call last)",
      "Cell \u001b[0;32mIn[20], line 62\u001b[0m\n\u001b[1;32m     39\u001b[0m final_clean_samples \u001b[38;5;241m=\u001b[39m get_clean_samples(sampler, param_names, verbose\u001b[38;5;241m=\u001b[39m\u001b[38;5;28;01mTrue\u001b[39;00m)\n\u001b[1;32m     41\u001b[0m \u001b[38;5;66;03m#fig_corner = make_beautiful_corner(\u001b[39;00m\n\u001b[1;32m     42\u001b[0m \u001b[38;5;66;03m#    final_clean_samples,\u001b[39;00m\n\u001b[1;32m     43\u001b[0m \u001b[38;5;66;03m#    param_names,\u001b[39;00m\n\u001b[0;32m   (...)\u001b[0m\n\u001b[1;32m     60\u001b[0m \n\u001b[1;32m     61\u001b[0m \u001b[38;5;66;03m# Save and display the final corner plot\u001b[39;00m\n\u001b[0;32m---> 62\u001b[0m corner_path \u001b[38;5;241m=\u001b[39m \u001b[43mdata_path\u001b[49m\u001b[38;5;241;43m.\u001b[39;49m\u001b[43mwith_name\u001b[49m\u001b[43m(\u001b[49m\u001b[38;5;124;43mf\u001b[39;49m\u001b[38;5;124;43m\"\u001b[39;49m\u001b[38;5;132;43;01m{\u001b[39;49;00m\u001b[43mplot_dir\u001b[49m\u001b[38;5;132;43;01m}\u001b[39;49;00m\u001b[38;5;124;43m/\u001b[39;49m\u001b[38;5;132;43;01m{\u001b[39;49;00m\u001b[43mburst_name\u001b[49m\u001b[38;5;132;43;01m}\u001b[39;49;00m\u001b[38;5;124;43m_scat_corner.pdf\u001b[39;49m\u001b[38;5;124;43m\"\u001b[39;49m\u001b[43m)\u001b[49m\n\u001b[1;32m     63\u001b[0m fig_corner\u001b[38;5;241m.\u001b[39msavefig(corner_path)\n\u001b[1;32m     64\u001b[0m \u001b[38;5;28mprint\u001b[39m(\u001b[38;5;124mf\u001b[39m\u001b[38;5;124m\"\u001b[39m\u001b[38;5;124mSaved corner plot to: \u001b[39m\u001b[38;5;132;01m{\u001b[39;00mcorner_path\u001b[38;5;132;01m}\u001b[39;00m\u001b[38;5;124m\"\u001b[39m)\n",
      "File \u001b[0;32m/usr/local/lib/python3.8/pathlib.py:856\u001b[0m, in \u001b[0;36mPurePath.with_name\u001b[0;34m(self, name)\u001b[0m\n\u001b[1;32m    853\u001b[0m drv, root, parts \u001b[38;5;241m=\u001b[39m \u001b[38;5;28mself\u001b[39m\u001b[38;5;241m.\u001b[39m_flavour\u001b[38;5;241m.\u001b[39mparse_parts((name,))\n\u001b[1;32m    854\u001b[0m \u001b[38;5;28;01mif\u001b[39;00m (\u001b[38;5;129;01mnot\u001b[39;00m name \u001b[38;5;129;01mor\u001b[39;00m name[\u001b[38;5;241m-\u001b[39m\u001b[38;5;241m1\u001b[39m] \u001b[38;5;129;01min\u001b[39;00m [\u001b[38;5;28mself\u001b[39m\u001b[38;5;241m.\u001b[39m_flavour\u001b[38;5;241m.\u001b[39msep, \u001b[38;5;28mself\u001b[39m\u001b[38;5;241m.\u001b[39m_flavour\u001b[38;5;241m.\u001b[39maltsep]\n\u001b[1;32m    855\u001b[0m     \u001b[38;5;129;01mor\u001b[39;00m drv \u001b[38;5;129;01mor\u001b[39;00m root \u001b[38;5;129;01mor\u001b[39;00m \u001b[38;5;28mlen\u001b[39m(parts) \u001b[38;5;241m!=\u001b[39m \u001b[38;5;241m1\u001b[39m):\n\u001b[0;32m--> 856\u001b[0m     \u001b[38;5;28;01mraise\u001b[39;00m \u001b[38;5;167;01mValueError\u001b[39;00m(\u001b[38;5;124m\"\u001b[39m\u001b[38;5;124mInvalid name \u001b[39m\u001b[38;5;132;01m%r\u001b[39;00m\u001b[38;5;124m\"\u001b[39m \u001b[38;5;241m%\u001b[39m (name))\n\u001b[1;32m    857\u001b[0m \u001b[38;5;28;01mreturn\u001b[39;00m \u001b[38;5;28mself\u001b[39m\u001b[38;5;241m.\u001b[39m_from_parsed_parts(\u001b[38;5;28mself\u001b[39m\u001b[38;5;241m.\u001b[39m_drv, \u001b[38;5;28mself\u001b[39m\u001b[38;5;241m.\u001b[39m_root,\n\u001b[1;32m    858\u001b[0m                                \u001b[38;5;28mself\u001b[39m\u001b[38;5;241m.\u001b[39m_parts[:\u001b[38;5;241m-\u001b[39m\u001b[38;5;241m1\u001b[39m] \u001b[38;5;241m+\u001b[39m [name])\n",
      "\u001b[0;31mValueError\u001b[0m: Invalid name '/arc/home/jfaber/baseband_morphologies/chime_dsa_codetections/FLITS/scattering//casey_scat_corner.pdf'"
     ]
    }
   ],
   "source": [
    "# The main results are in the returned dictionary. Let's look at them.\n",
    "print(\"\\n--- Pipeline Run Summary ---\")\n",
    "print(f\"Best model found: {results['best_key']}\")\n",
    "print(f\"Reduced Chi-squared: {results['goodness_of_fit']['chi2_reduced']:.2f}\")\n",
    "print(\"Best-fit parameters (from highest-likelihood sample):\")\n",
    "print(results['best_params'])\n",
    "\n",
    "\n",
    "# ------------------------------------------------------------------\n",
    "# 3. Interactive Post-Fit Analysis (Optional)\n",
    "# ------------------------------------------------------------------\n",
    "# The main pipeline has already produced a full analysis. The following\n",
    "# steps are useful for interactively assessing convergence and creating\n",
    "# custom plots like a detailed corner plot.\n",
    "\n",
    "sampler = results[\"sampler\"]\n",
    "best_p = results[\"best_params\"]\n",
    "param_names = results[\"param_names\"]\n",
    "\n",
    "# --- FIX: Detach the sampler from the now-closed pool ---\n",
    "# By setting the pool to None, subsequent calls will run in serial mode.\n",
    "sampler.pool = None \n",
    "\n",
    "# --- Interactively extend the chain until convergence ---\n",
    "print(\"\\n--- Interactive Chain Convergence Check ---\")\n",
    "max_extra_chunks, chunk_size = 2, 1000 \n",
    "chunks_added = 0\n",
    "while not quick_chain_check(sampler):\n",
    "    if chunks_added >= max_extra_chunks:\n",
    "        print(f\"Reached max extra steps ({max_extra_chunks * chunk_size}); proceeding.\")\n",
    "        break\n",
    "    print(f\"\\nChain not fully converged. Running for {chunk_size} more steps...\")\n",
    "    # This call will now work correctly\n",
    "    sampler.run_mcmc(None, chunk_size, progress=True)\n",
    "    chunks_added += 1\n",
    "\n",
    "# --- Generate a high-quality corner plot with the final chain ---\n",
    "print(\"\\n--- Generating Final Corner Plot ---\")\n",
    "final_clean_samples = get_clean_samples(sampler, param_names, verbose=True)\n",
    "\n",
    "#fig_corner = make_beautiful_corner(\n",
    "#    final_clean_samples,\n",
    "#    param_names,\n",
    "#    best_params=best_p,\n",
    "#    title=f\"Posterior for {results['best_key']} ({final_clean_samples.shape[0]} samples)\"\n",
    "#)\n",
    "#\n",
    "## Save and display the final corner plot\n",
    "#corner_path = data_path.with_name(f\"{data_path.stem}_corner.pdf\")\n",
    "#fig_corner.savefig(corner_path, dpi=200, bbox_inches=\"tight\")\n",
    "#print(f\"Saved corner plot to: {corner_path}\")\n",
    "#plt.show()\n",
    "#\n",
    "#fig_corner = make_beautiful_corner_wide(\n",
    "#    final_clean_samples,\n",
    "#    param_names,\n",
    "#    best_params=best_p,\n",
    "#    title=f\"Posterior for {results['best_key']} ({final_clean_samples.shape[0]} samples)\"\n",
    "#)\n",
    "\n",
    "# Save and display the final corner plot\n",
    "corner_path = data_path.with_name(f\"{plot_dir}/{burst_name}_scat_corner.pdf\")\n",
    "fig_corner.savefig(corner_path)\n",
    "print(f\"Saved corner plot to: {corner_path}\")\n",
    "plt.show()\n",
    "\n",
    "# The 4-panel plot is now generated automatically by the pipeline's\n",
    "# `create_sixteen_panel_plot` or `create_four_panel_plot` functions,\n",
    "# so the manual plotting code from the old notebook is no longer needed here.\n",
    "\n",
    "print(\"\\nAnalysis complete.\")\n"
   ]
  },
  {
   "cell_type": "code",
   "execution_count": null,
   "id": "f128574e-2a2c-4737-99e1-da0a18950ee4",
   "metadata": {
    "tags": []
   },
   "outputs": [],
   "source": [
    "\n"
   ]
  },
  {
   "cell_type": "code",
   "execution_count": null,
   "id": "619f772b-0c2f-40be-a5d2-980a055ce8c1",
   "metadata": {
    "tags": []
   },
   "outputs": [],
   "source": [
    "import corner, numpy as np\n",
    "samples = get_clean_samples(sampler, param_names, verbose=True)\n",
    "q   = np.percentile(samples, [2, 98], axis=0)      # loose 96 % band\n",
    "pad = 0.1 * (q[1] - q[0])                          # 10 % breathing room\n",
    "ranges = [(low - d, high + d) for (low, high), d in zip(q.T, pad)]\n",
    "\n",
    "fig = corner.corner(samples, labels=param_names, range=ranges,\n",
    "                    show_titles=True, title_fmt=\".3g\", max_n_ticks=4)"
   ]
  },
  {
   "cell_type": "code",
   "execution_count": null,
   "id": "ec77aa07-b9d2-4828-bd4f-79b0dc01b99c",
   "metadata": {},
   "outputs": [],
   "source": []
  }
 ],
 "metadata": {
  "kernelspec": {
   "display_name": "Python 3 (ipykernel)",
   "language": "python",
   "name": "python3"
  },
  "language_info": {
   "codemirror_mode": {
    "name": "ipython",
    "version": 3
   },
   "file_extension": ".py",
   "mimetype": "text/x-python",
   "name": "python",
   "nbconvert_exporter": "python",
   "pygments_lexer": "ipython3",
   "version": "3.8.19"
  }
 },
 "nbformat": 4,
 "nbformat_minor": 5
}
