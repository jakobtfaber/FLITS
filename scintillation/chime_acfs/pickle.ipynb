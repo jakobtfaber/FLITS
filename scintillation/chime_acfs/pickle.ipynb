{
 "cells": [
  {
   "cell_type": "code",
   "execution_count": 1,
   "id": "16f97045-a4d6-4d43-befe-4c2ab9346b23",
   "metadata": {
    "tags": []
   },
   "outputs": [],
   "source": [
    "import json\n",
    "import pickle\n",
    "import numpy as np\n",
    "import matplotlib.pyplot as plt\n",
    "from scipy.odr import RealData, ODR, Model as ODRModel\n",
    "import logging\n",
    "\n",
    "# Set up basic logging to see the output\n",
    "logging.basicConfig(level=logging.INFO, format='%(levelname)s: %(message)s')\n",
    "\n",
    "def read_json_data(json_path):\n",
    "    \"\"\"\n",
    "    Reads scintillation data from a pipeline-generated JSON file.\n",
    "\n",
    "    Args:\n",
    "        json_path (str): The path to the input JSON file.\n",
    "\n",
    "    Returns:\n",
    "        tuple: A tuple containing arrays for frequencies (MHz), bandwidths (MHz),\n",
    "               bandwidth errors (MHz), modulation indices, and modulation index errors.\n",
    "               Returns (None, None, None, None, None) if an error occurs.\n",
    "    \"\"\"\n",
    "    logging.info(f\"Reading data from JSON file: {json_path}\")\n",
    "    try:\n",
    "        with open(json_path, 'r') as f:\n",
    "            data = json.load(f)\n",
    "\n",
    "        # Navigate to the sub-band measurements. We assume the main component is 'scint_scale'.\n",
    "        # This might need to be adjusted if the component name changes.\n",
    "        measurements = data['components']['scint_scale']['subband_measurements']\n",
    "\n",
    "        freqs = np.array([m['freq_mhz'] for m in measurements])\n",
    "        bws = np.array([m['bw'] for m in measurements])\n",
    "        mods = np.array([m['mod'] for m in measurements])\n",
    "\n",
    "        # Combine statistical fit error and finite scintle error in quadrature\n",
    "        bw_err_fit = np.nan_to_num(np.array([m.get('bw_err') for m in measurements]))\n",
    "        bw_err_finite = np.nan_to_num(np.array([m.get('finite_err') for m in measurements]))\n",
    "        bw_errs = np.sqrt(bw_err_fit**2 + bw_err_finite**2)\n",
    "        \n",
    "        mod_errs = np.nan_to_num(np.array([m.get('mod_err') for m in measurements]))\n",
    "\n",
    "        return freqs, bws, bw_errs, mods, mod_errs\n",
    "\n",
    "    except (FileNotFoundError, KeyError, TypeError) as e:\n",
    "        logging.error(f\"Could not read or parse JSON file {json_path}. Error: {e}\")\n",
    "        return None, None, None, None, None\n",
    "\n",
    "def read_pkl_data(pkl_path, model_key='1_lorenz'):\n",
    "    \"\"\"\n",
    "    Reads scintillation data from a pickle file containing analysis results.\n",
    "\n",
    "    Args:\n",
    "        pkl_path (str): The path to the input pickle file.\n",
    "        model_key (str): The key for the desired model fit ('1_lorenz' or '2_lorenz').\n",
    "                         Defaults to '1_lorenz' for a single scintillation scale.\n",
    "\n",
    "    Returns:\n",
    "        tuple: A tuple containing arrays for frequencies (MHz), bandwidths (MHz),\n",
    "               bandwidth errors (MHz), modulation indices, and modulation index errors.\n",
    "               Returns (None, None, None, None, None) if an error occurs.\n",
    "    \"\"\"\n",
    "    logging.info(f\"Reading data from pickle file: {pkl_path}\")\n",
    "    try:\n",
    "        with open(pkl_path, 'rb') as f:\n",
    "            data = pickle.load(f)\n",
    "            \n",
    "        print(data)\n",
    "\n",
    "        # Extract data based on the chosen model key\n",
    "        if model_key not in data:\n",
    "            logging.error(f\"Model key '{model_key}' not found in pickle file.\")\n",
    "            return None, None, None, None, None\n",
    "            \n",
    "        freqs = np.array(data['f_cents'])\n",
    "        \n",
    "        # For a 1-component model, the keys are straightforward\n",
    "        if model_key == '1_lorenz':\n",
    "            bws = np.array(data[model_key]['sub_scint_1'])\n",
    "            mods = np.array(data[model_key]['mods1'])\n",
    "            bw_err_fit = np.nan_to_num(np.array(data[model_key]['sub_scint_uncert_1']))\n",
    "            mod_errs = np.nan_to_num(np.array(data[model_key]['mods1_uncert']))\n",
    "            \n",
    "            # The 'add_un1' seems to be an additional uncertainty. We'll take its mean value\n",
    "            # for each sub-band and add it in quadrature to the fit error.\n",
    "            bw_err_add = np.array([np.mean(err) for err in data[model_key]['add_un1']])\n",
    "            bw_errs = np.sqrt(bw_err_fit**2 + bw_err_add**2)\n",
    "\n",
    "        # For a 2-component model, we must choose which component to use.\n",
    "        # Here, we default to the broader component (sub_scint_2), a common choice.\n",
    "        elif model_key == '2_lorenz':\n",
    "            bws = np.array(data[model_key]['sub_scint_2']) # Choosing the second component\n",
    "            mods = np.array(data[model_key]['mods2'])\n",
    "            bw_err_fit = np.nan_to_num(np.array(data[model_key]['sub_scint_uncert_2']))\n",
    "            mod_errs = np.nan_to_num(np.array(data[model_key]['mods2_uncert']))\n",
    "            bw_err_add = np.array([np.mean(err) for err in data[model_key]['add_un2']])\n",
    "            bw_errs = np.sqrt(bw_err_fit**2 + bw_err_add**2)\n",
    "        \n",
    "        else:\n",
    "             raise ValueError(f\"Unsupported model key: {model_key}\")\n",
    "\n",
    "\n",
    "        return freqs, bws, bw_errs, mods, mod_errs\n",
    "\n",
    "    except (FileNotFoundError, KeyError, TypeError, pickle.UnpicklingError) as e:\n",
    "        logging.error(f\"Could not read or parse pickle file {pkl_path}. Error: {e}\")\n",
    "        return None, None, None, None, None\n",
    "\n",
    "\n"
   ]
  },
  {
   "cell_type": "code",
   "execution_count": 4,
   "id": "c7e6a7ae-a280-4682-beea-8363c0b7c17a",
   "metadata": {},
   "outputs": [
    {
     "name": "stderr",
     "output_type": "stream",
     "text": [
      "INFO: Reading data from pickle file: wilhelm_253635173_subband_acf_fits.pkl\n"
     ]
    },
    {
     "name": "stdout",
     "output_type": "stream",
     "text": [
      "{'1_lorenz': {'sub_scint_1': [0.239177755414001, 0.03098038269728807, 0.08902349045914636, 0.03060903481854996], 'sub_scint_uncert_1': [0.16924869256962413, 0.014594476244811576, 0.06139504876062839, 0.01827234228783935], 'mods1': [0.3005029817572613, 0.23880882627485556, 0.21708979235951498, 0.2878815369055432], 'mods1_uncert': [0.09866257813328634, 0.03351959254352127, 0.03441208093848267, 0.045683834554485186], 'add_un1': [array([0.02495628, 0.02794008, 0.03255887, 0.03098943]), array([0.0011861 , 0.00133459, 0.00156928, 0.00148882]), array([0.00574612, 0.00645617, 0.00757168, 0.00719022]), array([0.00116488, 0.00131072, 0.00154125, 0.00146221])], 'c1': [-0.065685558535165, -0.004152302144561304, -0.006184531100899449, 0.09701273817215395], 'c1_uncert': [0.06281885388372695, 0.004767737658598892, 0.013492130526070114, 0.010115450305916379]}, '2_lorenz': {'sub_scint_1': [0.00307364980666266, 0.025709408346127994, 0.08895984789247124, 0.030597509878495525], 'sub_scint_uncert_1': [0.024944904778742453, 0.02005131275943251, nan, 0.027363149797342057], 'mods1': [0.18223351088223483, 0.2278129829324682, 0.12695976200908232, 0.28786560518621607], 'add_un1': [array([3.71639524e-05, 4.18461705e-05, 4.92685655e-05, 4.67204794e-05]), array([0.00089711, 0.00100955, 0.00118738, 0.0011264 ]), array([0.00574   , 0.0064493 , 0.00756364, 0.00718258]), array([0.00116422, 0.00130999, 0.00154038, 0.00146139])], 'add_un2': [array([0.02691086, 0.03011967, 0.03508088, 0.03339595]), array([1.42813194, 1.51950093, 1.6360041 , 1.59947647]), array([0.00574281, 0.00645246, 0.00756734, 0.00718609]), array([3.12515635, 3.26450523, 3.43124711, 3.38025932])], 'mods1_uncert': [0.8843662376088918, 0.043747014028217575, nan, 0.06390524874421881], 'sub_scint_2': [0.25169946794100295, 4.266478443866203, 0.08898910706644887, 8.037353460357396], 'sub_scint_uncert_2': [0.20811820587139815, 2034.5556837379518, nan, 15466159.112226503], 'mods2': [0.3029555517444382, 1.6315636900827601, 0.17608886914490807, 0.1364262299617114], 'mods2_uncert': [0.11561253409709556, 774.0384588765904, nan, 262065.64515754546]}, 'f_cents': [727.977477196368, 693.3742262989571, 674.4990322254934, 639.5791602472219], 'acfs_offset': [array([ 0.       , -0.0814881, -0.0229129, ..., -0.0229129, -0.0814881,\n",
      "        0.       ], dtype=float32), array([1.        , 0.89724714, 0.98863244, ..., 0.98863244, 0.89724714,\n",
      "       1.        ], dtype=float32), array([2.       , 2.0860536, 1.9853922, ..., 1.9853922, 2.0860536,\n",
      "       2.       ], dtype=float32), array([3.       , 3.207978 , 2.9375417, ..., 2.9375417, 3.207978 ,\n",
      "       3.       ], dtype=float32)], 'lm_fitting_objects': [{1: <lmfit.minimizer.MinimizerResult object at 0x7f12d453e6a0>, 2: <lmfit.minimizer.MinimizerResult object at 0x7f12800cfee0>}, {1: <lmfit.minimizer.MinimizerResult object at 0x7f12800e0700>, 2: <lmfit.minimizer.MinimizerResult object at 0x7f12800e5790>}, {1: <lmfit.minimizer.MinimizerResult object at 0x7f12800703a0>, 2: <lmfit.minimizer.MinimizerResult object at 0x7f12800766d0>}, {1: <lmfit.minimizer.MinimizerResult object at 0x7f128007c0d0>, 2: <lmfit.minimizer.MinimizerResult object at 0x7f12800813a0>}]}\n"
     ]
    }
   ],
   "source": [
    "out = read_pkl_data('wilhelm_253635173_subband_acf_fits.pkl')"
   ]
  },
  {
   "cell_type": "code",
   "execution_count": 5,
   "id": "e9b19af7-bd5a-4716-91a3-8de797d081e2",
   "metadata": {
    "tags": []
   },
   "outputs": [
    {
     "name": "stdout",
     "output_type": "stream",
     "text": [
      "(array([727.9774772 , 693.3742263 , 674.49903223, 639.57916025]), array([0.23917776, 0.03098038, 0.08902349, 0.03060903]), array([0.17173404, 0.01466097, 0.06176402, 0.01832361]), array([0.30050298, 0.23880883, 0.21708979, 0.28788154]), array([0.09866258, 0.03351959, 0.03441208, 0.04568383]))\n"
     ]
    }
   ],
   "source": [
    "print(out)"
   ]
  },
  {
   "cell_type": "code",
   "execution_count": 21,
   "id": "026a5f2b-e363-482d-acd6-900ebc194637",
   "metadata": {},
   "outputs": [
    {
     "name": "stdout",
     "output_type": "stream",
     "text": [
      "[727.977477196368, 693.3742262989571, 674.4990322254934, 639.5791602472219]\n",
      "[0.239177755414001, 0.03098038269728807, 0.08902349045914636, 0.03060903481854996]\n",
      "[0.16924869256962413, 0.014594476244811576, 0.06139504876062839, 0.01827234228783935]\n"
     ]
    }
   ],
   "source": [
    "# In an environment that has lmfit & uncertainties installed\n",
    "import pickle, lmfit, uncertainties\n",
    "with open(\"wilhelm_253635173_subband_acf_fits.pkl\", \"rb\") as f:\n",
    "    acf_dict = pickle.load(f)\n",
    "\n",
    "#print(acf_dict.keys())  # likely: dict_keys(['sub_scint_1', 'sub_scint_2', ...])\n",
    "#print(acf_dict['2_lorenz'])\n",
    "print(acf_dict['f_cents'])\n",
    "print(acf_dict['1_lorenz']['sub_scint_1'])    # lmfit.ModelResult or similar\n",
    "print(acf_dict['1_lorenz']['sub_scint_uncert_1'])\n",
    "#print(acf_dict['2_lorenz']['sub_scint_2'])"
   ]
  },
  {
   "cell_type": "code",
   "execution_count": null,
   "id": "670f9231-0176-40f1-b847-2030011a4285",
   "metadata": {},
   "outputs": [],
   "source": []
  }
 ],
 "metadata": {
  "kernelspec": {
   "display_name": "Python 3 (ipykernel)",
   "language": "python",
   "name": "python3"
  },
  "language_info": {
   "codemirror_mode": {
    "name": "ipython",
    "version": 3
   },
   "file_extension": ".py",
   "mimetype": "text/x-python",
   "name": "python",
   "nbconvert_exporter": "python",
   "pygments_lexer": "ipython3",
   "version": "3.8.19"
  },
  "widgets": {
   "application/vnd.jupyter.widget-state+json": {
    "state": {},
    "version_major": 2,
    "version_minor": 0
   }
  }
 },
 "nbformat": 4,
 "nbformat_minor": 5
}
